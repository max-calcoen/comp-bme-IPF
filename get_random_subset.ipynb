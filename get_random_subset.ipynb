{
 "cells": [
  {
   "cell_type": "code",
   "execution_count": 1,
   "id": "ab9c839a",
   "metadata": {},
   "outputs": [],
   "source": [
    "import random\n",
    "import pandas as pd\n",
    "import os\n",
    "\n",
    "data_path = r\"data\"\n",
    "imaging_path = os.path.join(data_path, \"imaging\")\n",
    "\n",
    "filenames = os.listdir(imaging_path)"
   ]
  },
  {
   "cell_type": "code",
   "execution_count": 4,
   "id": "e849068b",
   "metadata": {},
   "outputs": [
    {
     "name": "stdout",
     "output_type": "stream",
     "text": [
      "Copied MASK_SK658 Slobe ch010119.jpg to imaging_subset folder.\n",
      "Copied MASK_SK658 Slobe ch010077.jpg to imaging_subset folder.\n",
      "Copied MASK_SK658 Slobe ch010115.jpg to imaging_subset folder.\n",
      "Copied MASK_SK658 Slobe ch010111.jpg to imaging_subset folder.\n",
      "Copied MASK_SK658 Slobe ch010104.jpg to imaging_subset folder.\n",
      "Copied MASK_SK658 Slobe ch010066.jpg to imaging_subset folder.\n",
      "Copied MASK_SK658 Slobe ch010063.jpg to imaging_subset folder.\n",
      "Copied MASK_SK658 Slobe ch010103.jpg to imaging_subset folder.\n",
      "Copied MASK_SK658 Slobe ch010135.jpg to imaging_subset folder.\n",
      "Copied MASK_SK658 Slobe ch010089.jpg to imaging_subset folder.\n",
      "Copied MASK_Sk658 Llobe ch010030.jpg to imaging_subset folder.\n",
      "Copied MASK_Sk658 Llobe ch010071.jpg to imaging_subset folder.\n",
      "Copied MASK_Sk658 Llobe ch010061.jpg to imaging_subset folder.\n",
      "Copied MASK_Sk658 Llobe ch010051.jpg to imaging_subset folder.\n",
      "Copied MASK_Sk658 Llobe ch010174.jpg to imaging_subset folder.\n",
      "Copied MASK_Sk658 Llobe ch010017.jpg to imaging_subset folder.\n",
      "Copied MASK_Sk658 Llobe ch010023.jpg to imaging_subset folder.\n",
      "Copied MASK_Sk658 Llobe ch010032.jpg to imaging_subset folder.\n",
      "Copied MASK_Sk658 Llobe ch010121.jpg to imaging_subset folder.\n",
      "Copied MASK_Sk658 Llobe ch010022.jpg to imaging_subset folder.\n"
     ]
    }
   ],
   "source": [
    "# get random subset with even amount of slobe and llobe\n",
    "random.seed(42)\n",
    "slobe_files = [f for f in filenames if 'slobe' in f.lower()]\n",
    "llobe_files = [f for f in filenames if 'llobe' in f.lower()]\n",
    "random_slobe = random.sample(slobe_files, 10)\n",
    "random_llobe = random.sample(llobe_files, 10)\n",
    "random_subset = random_slobe + random_llobe\n",
    "# copy images over to imaging_subset folder\n",
    "if input(\"copy images to imaging_subset folder? (y/n): \") == 'y':\n",
    "    subset_path = os.path.join(data_path, \"imaging_subset\")\n",
    "    os.makedirs(subset_path, exist_ok=True)\n",
    "    # make sure no existing files exist\n",
    "    if os.listdir(subset_path):\n",
    "        raise Exception(\"imaging_subset folder is not empty\")\n",
    "    for f in random_subset:\n",
    "        src = os.path.join(imaging_path, f)\n",
    "        dst = os.path.join(subset_path, f)\n",
    "        if not os.path.exists(dst):\n",
    "            os.system(f'cp \"{src}\" \"{dst}\"')\n",
    "            print(f\"Copied {f} to imaging_subset folder.\")\n",
    "        else:\n",
    "            print(f\"{f} already exists in imaging_subset folder.\")\n",
    "else:\n",
    "    print(\"images not copied.\")"
   ]
  }
 ],
 "metadata": {
  "kernelspec": {
   "display_name": "venv",
   "language": "python",
   "name": "python3"
  },
  "language_info": {
   "codemirror_mode": {
    "name": "ipython",
    "version": 3
   },
   "file_extension": ".py",
   "mimetype": "text/x-python",
   "name": "python",
   "nbconvert_exporter": "python",
   "pygments_lexer": "ipython3",
   "version": "3.10.0"
  }
 },
 "nbformat": 4,
 "nbformat_minor": 5
}
