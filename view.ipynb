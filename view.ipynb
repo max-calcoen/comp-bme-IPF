{
 "cells": [
  {
   "cell_type": "code",
   "execution_count": 2,
   "id": "cc8fed50",
   "metadata": {},
   "outputs": [],
   "source": [
    "import pandas as pd"
   ]
  },
  {
   "cell_type": "code",
   "execution_count": 4,
   "id": "14ac4536",
   "metadata": {},
   "outputs": [
    {
     "data": {
      "application/vnd.microsoft.datawrangler.viewer.v0+json": {
       "columns": [
        {
         "name": "index",
         "rawType": "int64",
         "type": "integer"
        },
        {
         "name": "Filenames",
         "rawType": "object",
         "type": "string"
        },
        {
         "name": "Depth from lung surface (in micrometers) where image was acquired",
         "rawType": "int64",
         "type": "integer"
        }
       ],
       "ref": "57bf8ad0-fecd-4c83-b38d-89fe4b4421f2",
       "rows": [
        [
         "0",
         "/Users/smp6p/Documents/TEACHING/Teaching - BME 2315/Module_2/Code_for_Module_2/MASK_SK658 Llobe ch010039.jpg",
         "15"
        ],
        [
         "1",
         "/Users/smp6p/Documents/TEACHING/Teaching - BME 2315/Module_2/Code_for_Module_2/MASK_SK658 Llobe ch010021.jpg",
         "30"
        ],
        [
         "2",
         "/Users/smp6p/Documents/TEACHING/Teaching - BME 2315/Module_2/Code_for_Module_2/MASK_SK658 Llobe ch010017.jpg",
         "45"
        ],
        [
         "3",
         "/Users/smp6p/Documents/TEACHING/Teaching - BME 2315/Module_2/Code_for_Module_2/MASK_SK658 Llobe ch010036.jpg",
         "55"
        ],
        [
         "4",
         "/Users/smp6p/Documents/TEACHING/Teaching - BME 2315/Module_2/Code_for_Module_2/MASK_SK658 Llobe ch010019.jpg",
         "60"
        ]
       ],
       "shape": {
        "columns": 2,
        "rows": 5
       }
      },
      "text/html": [
       "<div>\n",
       "<style scoped>\n",
       "    .dataframe tbody tr th:only-of-type {\n",
       "        vertical-align: middle;\n",
       "    }\n",
       "\n",
       "    .dataframe tbody tr th {\n",
       "        vertical-align: top;\n",
       "    }\n",
       "\n",
       "    .dataframe thead th {\n",
       "        text-align: right;\n",
       "    }\n",
       "</style>\n",
       "<table border=\"1\" class=\"dataframe\">\n",
       "  <thead>\n",
       "    <tr style=\"text-align: right;\">\n",
       "      <th></th>\n",
       "      <th>Filenames</th>\n",
       "      <th>Depth from lung surface (in micrometers) where image was acquired</th>\n",
       "    </tr>\n",
       "  </thead>\n",
       "  <tbody>\n",
       "    <tr>\n",
       "      <th>0</th>\n",
       "      <td>/Users/smp6p/Documents/TEACHING/Teaching - BME...</td>\n",
       "      <td>15</td>\n",
       "    </tr>\n",
       "    <tr>\n",
       "      <th>1</th>\n",
       "      <td>/Users/smp6p/Documents/TEACHING/Teaching - BME...</td>\n",
       "      <td>30</td>\n",
       "    </tr>\n",
       "    <tr>\n",
       "      <th>2</th>\n",
       "      <td>/Users/smp6p/Documents/TEACHING/Teaching - BME...</td>\n",
       "      <td>45</td>\n",
       "    </tr>\n",
       "    <tr>\n",
       "      <th>3</th>\n",
       "      <td>/Users/smp6p/Documents/TEACHING/Teaching - BME...</td>\n",
       "      <td>55</td>\n",
       "    </tr>\n",
       "    <tr>\n",
       "      <th>4</th>\n",
       "      <td>/Users/smp6p/Documents/TEACHING/Teaching - BME...</td>\n",
       "      <td>60</td>\n",
       "    </tr>\n",
       "  </tbody>\n",
       "</table>\n",
       "</div>"
      ],
      "text/plain": [
       "                                           Filenames  \\\n",
       "0  /Users/smp6p/Documents/TEACHING/Teaching - BME...   \n",
       "1  /Users/smp6p/Documents/TEACHING/Teaching - BME...   \n",
       "2  /Users/smp6p/Documents/TEACHING/Teaching - BME...   \n",
       "3  /Users/smp6p/Documents/TEACHING/Teaching - BME...   \n",
       "4  /Users/smp6p/Documents/TEACHING/Teaching - BME...   \n",
       "\n",
       "   Depth from lung surface (in micrometers) where image was acquired  \n",
       "0                                                 15                  \n",
       "1                                                 30                  \n",
       "2                                                 45                  \n",
       "3                                                 55                  \n",
       "4                                                 60                  "
      ]
     },
     "metadata": {},
     "output_type": "display_data"
    },
    {
     "data": {
      "application/vnd.microsoft.datawrangler.viewer.v0+json": {
       "columns": [
        {
         "name": "index",
         "rawType": "int64",
         "type": "integer"
        },
        {
         "name": "Filenames",
         "rawType": "object",
         "type": "string"
        },
        {
         "name": "Depth from lung surface (in micrometers) where image was acquired",
         "rawType": "int64",
         "type": "integer"
        }
       ],
       "ref": "56084c4f-65b2-4a3c-8c3e-ecbcf2575fa5",
       "rows": [
        [
         "0",
         "MASK_SK658 Llobe ch010039.jpg",
         "15"
        ],
        [
         "1",
         "MASK_SK658 Llobe ch010021.jpg",
         "30"
        ],
        [
         "2",
         "MASK_SK658 Llobe ch010017.jpg",
         "45"
        ],
        [
         "3",
         "MASK_SK658 Llobe ch010036.jpg",
         "55"
        ],
        [
         "4",
         "MASK_SK658 Llobe ch010019.jpg",
         "60"
        ]
       ],
       "shape": {
        "columns": 2,
        "rows": 5
       }
      },
      "text/html": [
       "<div>\n",
       "<style scoped>\n",
       "    .dataframe tbody tr th:only-of-type {\n",
       "        vertical-align: middle;\n",
       "    }\n",
       "\n",
       "    .dataframe tbody tr th {\n",
       "        vertical-align: top;\n",
       "    }\n",
       "\n",
       "    .dataframe thead th {\n",
       "        text-align: right;\n",
       "    }\n",
       "</style>\n",
       "<table border=\"1\" class=\"dataframe\">\n",
       "  <thead>\n",
       "    <tr style=\"text-align: right;\">\n",
       "      <th></th>\n",
       "      <th>Filenames</th>\n",
       "      <th>Depth from lung surface (in micrometers) where image was acquired</th>\n",
       "    </tr>\n",
       "  </thead>\n",
       "  <tbody>\n",
       "    <tr>\n",
       "      <th>0</th>\n",
       "      <td>MASK_SK658 Llobe ch010039.jpg</td>\n",
       "      <td>15</td>\n",
       "    </tr>\n",
       "    <tr>\n",
       "      <th>1</th>\n",
       "      <td>MASK_SK658 Llobe ch010021.jpg</td>\n",
       "      <td>30</td>\n",
       "    </tr>\n",
       "    <tr>\n",
       "      <th>2</th>\n",
       "      <td>MASK_SK658 Llobe ch010017.jpg</td>\n",
       "      <td>45</td>\n",
       "    </tr>\n",
       "    <tr>\n",
       "      <th>3</th>\n",
       "      <td>MASK_SK658 Llobe ch010036.jpg</td>\n",
       "      <td>55</td>\n",
       "    </tr>\n",
       "    <tr>\n",
       "      <th>4</th>\n",
       "      <td>MASK_SK658 Llobe ch010019.jpg</td>\n",
       "      <td>60</td>\n",
       "    </tr>\n",
       "  </tbody>\n",
       "</table>\n",
       "</div>"
      ],
      "text/plain": [
       "                       Filenames  \\\n",
       "0  MASK_SK658 Llobe ch010039.jpg   \n",
       "1  MASK_SK658 Llobe ch010021.jpg   \n",
       "2  MASK_SK658 Llobe ch010017.jpg   \n",
       "3  MASK_SK658 Llobe ch010036.jpg   \n",
       "4  MASK_SK658 Llobe ch010019.jpg   \n",
       "\n",
       "   Depth from lung surface (in micrometers) where image was acquired  \n",
       "0                                                 15                  \n",
       "1                                                 30                  \n",
       "2                                                 45                  \n",
       "3                                                 55                  \n",
       "4                                                 60                  "
      ]
     },
     "metadata": {},
     "output_type": "display_data"
    }
   ],
   "source": [
    "metadata_filenames = pd.read_csv(\"./data/Filenames and Depths (old).csv\")\n",
    "\n",
    "display(metadata_filenames.head())\n",
    "metadata_filenames[\"Filenames\"] = metadata_filenames[\"Filenames\"].str.slice(79, 110)\n",
    "\n",
    "\n",
    "display(metadata_filenames.head())\n",
    "metadata_filenames.to_csv(\"./data/depths.csv\", index=False, header=True)"
   ]
  }
 ],
 "metadata": {
  "kernelspec": {
   "display_name": "venv",
   "language": "python",
   "name": "python3"
  },
  "language_info": {
   "codemirror_mode": {
    "name": "ipython",
    "version": 3
   },
   "file_extension": ".py",
   "mimetype": "text/x-python",
   "name": "python",
   "nbconvert_exporter": "python",
   "pygments_lexer": "ipython3",
   "version": "3.10.0"
  }
 },
 "nbformat": 4,
 "nbformat_minor": 5
}
