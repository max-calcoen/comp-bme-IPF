{
 "cells": [
  {
   "cell_type": "code",
   "execution_count": 10,
   "id": "ad61f1dc",
   "metadata": {},
   "outputs": [
    {
     "name": "stdout",
     "output_type": "stream",
     "text": [
      "(20, 3)\n"
     ]
    }
   ],
   "source": [
    "# imports\n",
    "import os\n",
    "import cv2\n",
    "import pandas as pd\n",
    "import numpy as np\n",
    "import matplotlib.pyplot as plt\n",
    "\n",
    "# load images\n",
    "\n",
    "\n",
    "images_subset = pd.DataFrame()\n",
    "\n",
    "data_path = r\"data\"\n",
    "imaging_path = os.path.join(data_path, r\"imaging_subset\")\n",
    "filenames = os.listdir(imaging_path)\n",
    "depths = pd.read_csv(os.path.join(data_path, \"depths.csv\"))\n",
    "\n",
    "for i in filenames:\n",
    "    img = cv2.imread(os.path.join(imaging_path, i), 0)\n",
    "    try:\n",
    "        depth = depths[depths[\"Filenames\"].str.lower() == i.lower()][\n",
    "            \"Depth from lung surface (in micrometers) where image was acquired\"\n",
    "        ].values[0]\n",
    "        # some files are named with SK658 and some with Sk658\n",
    "    except IndexError:\n",
    "        print(f\"couldn't find depth for file {i}\")\n",
    "        continue\n",
    "    images_subset = pd.concat(\n",
    "        [images_subset, pd.DataFrame([{\"filename\": i, \"image\": img, \"depth\": depth}])],\n",
    "        ignore_index=True,\n",
    "    )\n",
    "\n",
    "print(images_subset.shape)"
   ]
  },
  {
   "cell_type": "code",
   "execution_count": 11,
   "id": "d7174938",
   "metadata": {},
   "outputs": [
    {
     "data": {
      "application/vnd.microsoft.datawrangler.viewer.v0+json": {
       "columns": [
        {
         "name": "index",
         "rawType": "int64",
         "type": "integer"
        },
        {
         "name": "filename",
         "rawType": "object",
         "type": "string"
        },
        {
         "name": "depth",
         "rawType": "int64",
         "type": "integer"
        },
        {
         "name": "white_percent",
         "rawType": "float64",
         "type": "float"
        },
        {
         "name": "area_pixels",
         "rawType": "int64",
         "type": "integer"
        }
       ],
       "ref": "0fa9dcb9-e282-4e6f-9889-1f7ad9004754",
       "rows": [
        [
         "0",
         "MASK_SK658 Slobe ch010048.jpg",
         "540",
         "1.179957389831543",
         "339495"
        ],
        [
         "1",
         "MASK_Sk658 Llobe ch010061.jpg",
         "585",
         "1.3352155685424805",
         "175368"
        ],
        [
         "2",
         "MASK_SK658 Slobe ch010103.jpg",
         "9600",
         "4.619193077087402",
         "192249"
        ],
        [
         "3",
         "MASK_SK658 Slobe ch010063.jpg",
         "7400",
         "2.882719039916992",
         "85161"
        ],
        [
         "4",
         "MASK_SK658 Slobe ch010113.jpg",
         "7300",
         "2.8595447540283203",
         "49410"
        ]
       ],
       "shape": {
        "columns": 4,
        "rows": 5
       }
      },
      "text/html": [
       "<div>\n",
       "<style scoped>\n",
       "    .dataframe tbody tr th:only-of-type {\n",
       "        vertical-align: middle;\n",
       "    }\n",
       "\n",
       "    .dataframe tbody tr th {\n",
       "        vertical-align: top;\n",
       "    }\n",
       "\n",
       "    .dataframe thead th {\n",
       "        text-align: right;\n",
       "    }\n",
       "</style>\n",
       "<table border=\"1\" class=\"dataframe\">\n",
       "  <thead>\n",
       "    <tr style=\"text-align: right;\">\n",
       "      <th></th>\n",
       "      <th>filename</th>\n",
       "      <th>depth</th>\n",
       "      <th>white_percent</th>\n",
       "      <th>area_pixels</th>\n",
       "    </tr>\n",
       "  </thead>\n",
       "  <tbody>\n",
       "    <tr>\n",
       "      <th>0</th>\n",
       "      <td>MASK_SK658 Slobe ch010048.jpg</td>\n",
       "      <td>540</td>\n",
       "      <td>1.179957</td>\n",
       "      <td>339495</td>\n",
       "    </tr>\n",
       "    <tr>\n",
       "      <th>1</th>\n",
       "      <td>MASK_Sk658 Llobe ch010061.jpg</td>\n",
       "      <td>585</td>\n",
       "      <td>1.335216</td>\n",
       "      <td>175368</td>\n",
       "    </tr>\n",
       "    <tr>\n",
       "      <th>2</th>\n",
       "      <td>MASK_SK658 Slobe ch010103.jpg</td>\n",
       "      <td>9600</td>\n",
       "      <td>4.619193</td>\n",
       "      <td>192249</td>\n",
       "    </tr>\n",
       "    <tr>\n",
       "      <th>3</th>\n",
       "      <td>MASK_SK658 Slobe ch010063.jpg</td>\n",
       "      <td>7400</td>\n",
       "      <td>2.882719</td>\n",
       "      <td>85161</td>\n",
       "    </tr>\n",
       "    <tr>\n",
       "      <th>4</th>\n",
       "      <td>MASK_SK658 Slobe ch010113.jpg</td>\n",
       "      <td>7300</td>\n",
       "      <td>2.859545</td>\n",
       "      <td>49410</td>\n",
       "    </tr>\n",
       "  </tbody>\n",
       "</table>\n",
       "</div>"
      ],
      "text/plain": [
       "                        filename  depth  white_percent  area_pixels\n",
       "0  MASK_SK658 Slobe ch010048.jpg    540       1.179957       339495\n",
       "1  MASK_Sk658 Llobe ch010061.jpg    585       1.335216       175368\n",
       "2  MASK_SK658 Slobe ch010103.jpg   9600       4.619193       192249\n",
       "3  MASK_SK658 Slobe ch010063.jpg   7400       2.882719        85161\n",
       "4  MASK_SK658 Slobe ch010113.jpg   7300       2.859545        49410"
      ]
     },
     "metadata": {},
     "output_type": "display_data"
    }
   ],
   "source": [
    "# merge pct_white_pixels.csv with manual_contour_area.csv on filename\n",
    "pct_white_pixels = pd.read_csv(os.path.join(data_path, \"pct_white_pixels.csv\"))\n",
    "manual_contour_area = pd.read_csv(os.path.join(data_path, \"manual_contour_area.csv\"))\n",
    "\n",
    "merged_data = pd.merge(pct_white_pixels, manual_contour_area, on=[\"filename\", \"depth\"], how=\"inner\")\n",
    "display(merged_data.head())"
   ]
  },
  {
   "cell_type": "code",
   "execution_count": 12,
   "id": "895c748d",
   "metadata": {},
   "outputs": [
    {
     "data": {
      "application/vnd.microsoft.datawrangler.viewer.v0+json": {
       "columns": [
        {
         "name": "index",
         "rawType": "int64",
         "type": "integer"
        },
        {
         "name": "filename",
         "rawType": "object",
         "type": "string"
        },
        {
         "name": "depth",
         "rawType": "int64",
         "type": "integer"
        },
        {
         "name": "white_percent",
         "rawType": "float64",
         "type": "float"
        },
        {
         "name": "area_pixels",
         "rawType": "int64",
         "type": "integer"
        },
        {
         "name": "slobe",
         "rawType": "bool",
         "type": "boolean"
        }
       ],
       "ref": "6ff3a944-e66b-48e7-a978-fe5cfdcab3fe",
       "rows": [
        [
         "0",
         "MASK_SK658 Slobe ch010048.jpg",
         "540",
         "1.179957389831543",
         "339495",
         "True"
        ],
        [
         "1",
         "MASK_Sk658 Llobe ch010061.jpg",
         "585",
         "1.3352155685424805",
         "175368",
         "False"
        ],
        [
         "2",
         "MASK_SK658 Slobe ch010103.jpg",
         "9600",
         "4.619193077087402",
         "192249",
         "True"
        ],
        [
         "3",
         "MASK_SK658 Slobe ch010063.jpg",
         "7400",
         "2.882719039916992",
         "85161",
         "True"
        ],
        [
         "4",
         "MASK_SK658 Slobe ch010113.jpg",
         "7300",
         "2.8595447540283203",
         "49410",
         "True"
        ]
       ],
       "shape": {
        "columns": 5,
        "rows": 5
       }
      },
      "text/html": [
       "<div>\n",
       "<style scoped>\n",
       "    .dataframe tbody tr th:only-of-type {\n",
       "        vertical-align: middle;\n",
       "    }\n",
       "\n",
       "    .dataframe tbody tr th {\n",
       "        vertical-align: top;\n",
       "    }\n",
       "\n",
       "    .dataframe thead th {\n",
       "        text-align: right;\n",
       "    }\n",
       "</style>\n",
       "<table border=\"1\" class=\"dataframe\">\n",
       "  <thead>\n",
       "    <tr style=\"text-align: right;\">\n",
       "      <th></th>\n",
       "      <th>filename</th>\n",
       "      <th>depth</th>\n",
       "      <th>white_percent</th>\n",
       "      <th>area_pixels</th>\n",
       "      <th>slobe</th>\n",
       "    </tr>\n",
       "  </thead>\n",
       "  <tbody>\n",
       "    <tr>\n",
       "      <th>0</th>\n",
       "      <td>MASK_SK658 Slobe ch010048.jpg</td>\n",
       "      <td>540</td>\n",
       "      <td>1.179957</td>\n",
       "      <td>339495</td>\n",
       "      <td>True</td>\n",
       "    </tr>\n",
       "    <tr>\n",
       "      <th>1</th>\n",
       "      <td>MASK_Sk658 Llobe ch010061.jpg</td>\n",
       "      <td>585</td>\n",
       "      <td>1.335216</td>\n",
       "      <td>175368</td>\n",
       "      <td>False</td>\n",
       "    </tr>\n",
       "    <tr>\n",
       "      <th>2</th>\n",
       "      <td>MASK_SK658 Slobe ch010103.jpg</td>\n",
       "      <td>9600</td>\n",
       "      <td>4.619193</td>\n",
       "      <td>192249</td>\n",
       "      <td>True</td>\n",
       "    </tr>\n",
       "    <tr>\n",
       "      <th>3</th>\n",
       "      <td>MASK_SK658 Slobe ch010063.jpg</td>\n",
       "      <td>7400</td>\n",
       "      <td>2.882719</td>\n",
       "      <td>85161</td>\n",
       "      <td>True</td>\n",
       "    </tr>\n",
       "    <tr>\n",
       "      <th>4</th>\n",
       "      <td>MASK_SK658 Slobe ch010113.jpg</td>\n",
       "      <td>7300</td>\n",
       "      <td>2.859545</td>\n",
       "      <td>49410</td>\n",
       "      <td>True</td>\n",
       "    </tr>\n",
       "  </tbody>\n",
       "</table>\n",
       "</div>"
      ],
      "text/plain": [
       "                        filename  depth  white_percent  area_pixels  slobe\n",
       "0  MASK_SK658 Slobe ch010048.jpg    540       1.179957       339495   True\n",
       "1  MASK_Sk658 Llobe ch010061.jpg    585       1.335216       175368  False\n",
       "2  MASK_SK658 Slobe ch010103.jpg   9600       4.619193       192249   True\n",
       "3  MASK_SK658 Slobe ch010063.jpg   7400       2.882719        85161   True\n",
       "4  MASK_SK658 Slobe ch010113.jpg   7300       2.859545        49410   True"
      ]
     },
     "metadata": {},
     "output_type": "display_data"
    }
   ],
   "source": [
    "# create slobe vs llobe column\n",
    "df = merged_data.copy()\n",
    "\n",
    "df[\"slobe\"] = df[\"filename\"].str.contains(\"slobe\", case=False)\n",
    "display(df.head())"
   ]
  },
  {
   "cell_type": "code",
   "execution_count": 13,
   "id": "5b018dc1",
   "metadata": {},
   "outputs": [
    {
     "name": "stdout",
     "output_type": "stream",
     "text": [
      "T test for slobe vs llobe for white percent:\n",
      "TtestResult(statistic=np.float64(3.469815814239402), pvalue=np.float64(0.002565092387819093), df=np.float64(19.0))\n",
      "T test for slobe vs llobe for depth:\n",
      "TtestResult(statistic=np.float64(3.133607768897513), pvalue=np.float64(0.005469240026446949), df=np.float64(19.0))\n",
      "T test for slobe vs llobe for area pixels:\n",
      "TtestResult(statistic=np.float64(0.9099205557822232), pvalue=np.float64(0.3742635498003356), df=np.float64(19.0))\n",
      "Correlation between depth and area pixels:\n",
      "PearsonRResult(statistic=np.float64(0.15346973591218055), pvalue=np.float64(0.5065787295909403))\n"
     ]
    }
   ],
   "source": [
    "# T test for slobe vs llobe for white percent\n",
    "import scipy.stats as stats\n",
    "\n",
    "y = \"slobe\"\n",
    "\n",
    "t_test_slobe_white_percent = stats.ttest_ind(\n",
    "    df[df[y] == True][\"white_percent\"],\n",
    "    df[df[y] == False][\"white_percent\"],\n",
    ")\n",
    "\n",
    "t_test_slobe_depth = stats.ttest_ind(\n",
    "    df[df[y] == True][\"depth\"],\n",
    "    df[df[y] == False][\"depth\"],\n",
    ")\n",
    "\n",
    "t_test_slobe_area_pixels = stats.ttest_ind(\n",
    "    df[df[y] == True][\"area_pixels\"],\n",
    "    df[df[y] == False][\"area_pixels\"],\n",
    ")\n",
    "\n",
    "# depth vs area pixels\n",
    "correlation_depth_area_pixels = stats.pearsonr(df[\"depth\"], df[\"area_pixels\"])\n",
    "\n",
    "print(\"T test for slobe vs llobe for white percent:\")\n",
    "print(t_test_slobe_white_percent)\n",
    "\n",
    "print(\"T test for slobe vs llobe for depth:\")\n",
    "print(t_test_slobe_depth)\n",
    "\n",
    "print(\"T test for slobe vs llobe for area pixels:\")\n",
    "print(t_test_slobe_area_pixels)\n",
    "\n",
    "print(\"Correlation between depth and area pixels:\")\n",
    "print(correlation_depth_area_pixels)"
   ]
  },
  {
   "cell_type": "code",
   "execution_count": 14,
   "id": "707aece1",
   "metadata": {},
   "outputs": [
    {
     "name": "stdout",
     "output_type": "stream",
     "text": [
      "                 Multivariate linear model\n",
      "============================================================\n",
      "                                                            \n",
      "------------------------------------------------------------\n",
      "       Intercept        Value  Num DF  Den DF F Value Pr > F\n",
      "------------------------------------------------------------\n",
      "          Wilks' lambda 0.6498 2.0000 18.0000  4.8494 0.0207\n",
      "         Pillai's trace 0.3502 2.0000 18.0000  4.8494 0.0207\n",
      " Hotelling-Lawley trace 0.5388 2.0000 18.0000  4.8494 0.0207\n",
      "    Roy's greatest root 0.5388 2.0000 18.0000  4.8494 0.0207\n",
      "------------------------------------------------------------\n",
      "                                                            \n",
      "------------------------------------------------------------\n",
      "        C(lobe)         Value  Num DF  Den DF F Value Pr > F\n",
      "------------------------------------------------------------\n",
      "          Wilks' lambda 0.6458 2.0000 18.0000  4.9365 0.0195\n",
      "         Pillai's trace 0.3542 2.0000 18.0000  4.9365 0.0195\n",
      " Hotelling-Lawley trace 0.5485 2.0000 18.0000  4.9365 0.0195\n",
      "    Roy's greatest root 0.5485 2.0000 18.0000  4.9365 0.0195\n",
      "============================================================\n",
      "\n"
     ]
    }
   ],
   "source": [
    "# MANOVA: joint effect of lobe type (slobe vs llobe) on depth and area_pixels\n",
    "from statsmodels.multivariate.manova import MANOVA\n",
    "\n",
    "df = df.copy()\n",
    "if \"lobe\" not in df.columns:\n",
    "    df[\"lobe\"] = df[\"slobe\"].map({True: \"slobe\", False: \"llobe\"})\n",
    "\n",
    "# run MANOVA\n",
    "maov = MANOVA.from_formula(\"depth + area_pixels ~ C(lobe)\", data=df)\n",
    "print(maov.mv_test())"
   ]
  },
  {
   "cell_type": "code",
   "execution_count": 15,
   "id": "a0e49db3",
   "metadata": {},
   "outputs": [
    {
     "name": "stdout",
     "output_type": "stream",
     "text": [
      "\n",
      "ANOVA for depth:\n",
      "                sum_sq    df         F    PR(>F)\n",
      "C(lobe)   9.994400e+07   1.0  9.819498  0.005469\n",
      "Residual  1.933842e+08  19.0       NaN       NaN\n",
      "\n",
      "ANOVA for area_pixels:\n",
      "                sum_sq    df         F    PR(>F)\n",
      "C(lobe)   6.609092e+10   1.0  0.827955  0.374264\n",
      "Residual  1.516661e+12  19.0       NaN       NaN\n"
     ]
    }
   ],
   "source": [
    "import statsmodels.api as sm\n",
    "from statsmodels.formula.api import ols\n",
    "from statsmodels.stats.anova import anova_lm\n",
    "\n",
    "for dv in [\"depth\", \"area_pixels\"]:\n",
    "    model = ols(f\"{dv} ~ C(lobe)\", data=df).fit()\n",
    "    print(f\"\\nANOVA for {dv}:\")\n",
    "    print(anova_lm(model, typ=2))"
   ]
  }
 ],
 "metadata": {
  "kernelspec": {
   "display_name": "venv",
   "language": "python",
   "name": "python3"
  },
  "language_info": {
   "codemirror_mode": {
    "name": "ipython",
    "version": 3
   },
   "file_extension": ".py",
   "mimetype": "text/x-python",
   "name": "python",
   "nbconvert_exporter": "python",
   "pygments_lexer": "ipython3",
   "version": "3.10.0"
  }
 },
 "nbformat": 4,
 "nbformat_minor": 5
}
