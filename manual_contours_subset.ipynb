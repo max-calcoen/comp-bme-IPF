{
 "cells": [
  {
   "cell_type": "code",
   "execution_count": null,
   "id": "92f14a00",
   "metadata": {},
   "outputs": [],
   "source": [
    "# get imaging data and depths\n"
   ]
  }
 ],
 "metadata": {
  "language_info": {
   "name": "python"
  }
 },
 "nbformat": 4,
 "nbformat_minor": 5
}
